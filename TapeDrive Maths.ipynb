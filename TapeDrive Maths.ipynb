{
 "cells": [
  {
   "cell_type": "code",
   "execution_count": 1,
   "metadata": {},
   "outputs": [],
   "source": [
    "import numpy as np\n",
    "import matplotlib.pyplot as plt"
   ]
  },
  {
   "cell_type": "markdown",
   "metadata": {},
   "source": [
    "### Tape Drive Motion\n",
    "For asymmetrically loaded spools (which is almost always the case), rotation of the spools by a given angle will result in different lengths of tape being released/taken up by each spool. \n",
    "\n",
    "For a spool with radius R, the length of tape extruded by a rotation angle $\\theta$ is given by:\n",
    "\n",
    "$$ L = \\frac{\\theta}{2\\pi}\\ 2\\pi R = R\\theta $$\n",
    "\n",
    "So, in order to keep L constant for both spools:\n",
    "\n",
    "$$ L = \\theta_1 R_1 = \\theta_2 R_2 $$\n",
    "\n",
    "Maintaining tension across both spools requires,\n",
    "\n",
    "$$ \\theta_2 = \\theta_1\\ \\frac{R_1}{R_2} $$\n",
    "\n",
    "The radius of each spool is given by the initial radius, plus the radius of the tape. For simplicity, consider only whole rotations when adding the tape, therefore the radius of the spool is:\n",
    "\n",
    "$$ R = r_{initial} + Nt_{tape} $$\n",
    "\n",
    "The length of tape in the first turn is:\n",
    "\n",
    "$$ L_1 = 2\\pi r_{initial} + t $$\n",
    "\n",
    "The length of tape in the second turn is:\n",
    "\n",
    "$$ L_2 = 2\\pi r_1 + t = 2\\pi r_{initial} + 2t $$\n",
    "\n",
    "Extending this:\n",
    "\n",
    "$$ L = 2\\pi\\left[\\sum_{k=1}^{N} (r_{initial} + kt) \\right] $$\n",
    "\n"
   ]
  },
  {
   "cell_type": "markdown",
   "metadata": {},
   "source": [
    "### Internal Spool Diameter = 10mm"
   ]
  },
  {
   "cell_type": "code",
   "execution_count": 12,
   "metadata": {},
   "outputs": [],
   "source": [
    "N = 50\n",
    "r = 0.005\n",
    "t = 0.000025"
   ]
  },
  {
   "cell_type": "code",
   "execution_count": 13,
   "metadata": {},
   "outputs": [],
   "source": [
    "L = 2*np.pi*np.sum([r + k*t for k in range(N)])"
   ]
  },
  {
   "cell_type": "code",
   "execution_count": 14,
   "metadata": {},
   "outputs": [
    {
     "data": {
      "text/plain": [
       "1.7632188768272712"
      ]
     },
     "execution_count": 14,
     "metadata": {},
     "output_type": "execute_result"
    }
   ],
   "source": [
    "L"
   ]
  },
  {
   "cell_type": "code",
   "execution_count": 15,
   "metadata": {},
   "outputs": [
    {
     "data": {
      "text/plain": [
       "0.031875000000000001"
      ]
     },
     "execution_count": 15,
     "metadata": {},
     "output_type": "execute_result"
    }
   ],
   "source": [
    "np.sum([k*t for k in range(51)])"
   ]
  },
  {
   "cell_type": "code",
   "execution_count": 16,
   "metadata": {},
   "outputs": [
    {
     "data": {
      "text/plain": [
       "0.031875"
      ]
     },
     "execution_count": 16,
     "metadata": {},
     "output_type": "execute_result"
    }
   ],
   "source": [
    "t*N*(N + 1) /2"
   ]
  },
  {
   "cell_type": "code",
   "execution_count": null,
   "metadata": {},
   "outputs": [],
   "source": []
  }
 ],
 "metadata": {
  "kernelspec": {
   "display_name": "Python 3",
   "language": "python",
   "name": "python3"
  },
  "language_info": {
   "codemirror_mode": {
    "name": "ipython",
    "version": 3
   },
   "file_extension": ".py",
   "mimetype": "text/x-python",
   "name": "python",
   "nbconvert_exporter": "python",
   "pygments_lexer": "ipython3",
   "version": "3.6.2"
  }
 },
 "nbformat": 4,
 "nbformat_minor": 2
}
